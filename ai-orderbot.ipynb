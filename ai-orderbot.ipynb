{
 "cells": [
  {
   "cell_type": "markdown",
   "id": "a9183228-0ba6-4af9-8430-649e28868253",
   "metadata": {
    "id": "JMXGlIvAwn30"
   },
   "source": [
    "# Ice Cream Parlour Chatbot 🍦  \n",
    "## AI-Powered Order Assistant  \n",
    "\n",
    "This chatbot is an AI-powered virtual assistant designed to help customers place orders at an ice cream parlour.  \n",
    "\n",
    "### Features:\n",
    "- Provides a friendly and engaging chat experience.\n",
    "- Assists with selecting ice cream flavors, sizes, and toppings.\n",
    "- Supports drink orders alongside ice creams.\n",
    "- Handles both takeaway and delivery options.\n",
    "\n",
    "### Technologies Used:\n",
    "- OpenAI GPT-3.5 Turbo for conversational AI.\n",
    "- Panel for building the interactive UI.\n",
    "\n",
    "Run the script to start chatting with your AI-powered ice cream assistant! 🍨  "
   ]
  },
  {
   "cell_type": "code",
   "execution_count": 22,
   "id": "7fa0d9b5",
   "metadata": {
    "height": 115,
    "tags": []
   },
   "outputs": [],
   "source": [
    "import os\n",
    "import openai\n",
    "from dotenv import load_dotenv, find_dotenv\n",
    "_ = load_dotenv(find_dotenv()) # read local .env file\n",
    "\n",
    "openai.api_key  = os.getenv('OPENAI_API_KEY')"
   ]
  },
  {
   "cell_type": "code",
   "execution_count": 23,
   "id": "cee681b7",
   "metadata": {
    "height": 486,
    "tags": []
   },
   "outputs": [],
   "source": [
    "# Chatbot configuration\n",
    "SYSTEM_PROMPT = \"\"\"\n",
    "You are OrderBot, an automated service to collect orders for an ice cream parlour. \n",
    "You first greet the customer, then collect the order, and then ask if it's a takeaway or delivery. \n",
    "You wait to collect the entire order, then summarize it and check for a final confirmation. \n",
    "If it's a delivery, you ask for the address.\n",
    "Make sure to clarify all flavors, toppings, and sizes to uniquely identify the order.\n",
    "You respond in a short, very conversational friendly style.\n",
    "\n",
    "The menu includes:\n",
    "Vanilla ice cream: $5.00, $3.50, $2.50\n",
    "Chocolate ice cream: $5.50, $4.00, $3.00\n",
    "Strawberry ice cream: $5.25, $3.75, $2.75\n",
    "Mint chocolate chip: $6.00, $4.50, $3.50\n",
    "Cookies and cream: $6.50, $5.00, $4.00\n",
    "\n",
    "Toppings:\n",
    "- Sprinkles: $0.50\n",
    "- Chocolate syrup: $1.00\n",
    "- Caramel sauce: $1.00\n",
    "- Chopped nuts: $1.50\n",
    "- Whipped cream: $1.00\n",
    "\n",
    "Drinks:\n",
    "- Milkshake (Vanilla, Chocolate, Strawberry): $4.50\n",
    "- Bottled water: $2.00\n",
    "\"\"\""
   ]
  },
  {
   "cell_type": "code",
   "execution_count": 24,
   "id": "ca733f8f",
   "metadata": {
    "height": 457,
    "tags": []
   },
   "outputs": [],
   "source": [
    "def get_completion_from_messages(messages, model=\"gpt-3.5-turbo\", temperature=0):\n",
    "    \"\"\"Fetches a response from OpenAI's ChatCompletion API.\"\"\"\n",
    "    response = openai.ChatCompletion.create(\n",
    "        model=model,\n",
    "        messages=messages,\n",
    "        temperature=temperature,\n",
    "    )\n",
    "    return response[\"choices\"][0][\"message\"][\"content\"]\n",
    "\n",
    "def collect_messages(_):\n",
    "    \"\"\"Handles user input, updates the conversation history, and displays messages.\"\"\"\n",
    "    prompt = inp.value\n",
    "    inp.value = \"\"\n",
    "    \n",
    "    # Append user message to context\n",
    "    context.append({\"role\": \"user\", \"content\": prompt})\n",
    "    response = get_completion_from_messages(context)\n",
    "    \n",
    "    # Append assistant response to context\n",
    "    context.append({\"role\": \"assistant\", \"content\": response})\n",
    "    \n",
    "    # Update UI\n",
    "    panels.append(pn.Row(\"User:\", pn.pane.Markdown(prompt, width=600)))\n",
    "    panels.append(pn.Row(\"Assistant:\", pn.pane.Markdown(response, width=600, style={\"background-color\": \"#F6F6F6\"})))\n",
    "    \n",
    "    return pn.Column(*panels)"
   ]
  },
  {
   "cell_type": "code",
   "execution_count": 25,
   "id": "da45ea0f",
   "metadata": {
    "height": 82,
    "tags": []
   },
   "outputs": [],
   "source": [
    "# Store conversation history\n",
    "context = [{\"role\": \"system\", \"content\": SYSTEM_PROMPT}]\n",
    "panels = []"
   ]
  },
  {
   "cell_type": "code",
   "execution_count": 26,
   "id": "0ae595bc",
   "metadata": {
    "height": 258,
    "tags": []
   },
   "outputs": [],
   "source": [
    "import panel as pn  # GUI\n",
    "pn.extension()\n",
    "\n",
    "inp = pn.widgets.TextInput(value=\"Hi\", placeholder='Enter text here…')\n",
    "button_conversation = pn.widgets.Button(name=\"Chat!\")\n",
    "\n",
    "interactive_conversation = pn.bind(collect_messages, button_conversation)\n",
    "\n",
    "dashboard = pn.Column(\n",
    "    inp,\n",
    "    pn.Row(button_conversation),\n",
    "    pn.panel(interactive_conversation, loading_indicator=True, height=300),\n",
    ")\n",
    "\n",
    "dashboard"
   ]
  }
 ],
 "metadata": {
  "kernelspec": {
   "display_name": "Python 3 (ipykernel)",
   "language": "python",
   "name": "python3"
  },
  "language_info": {
   "codemirror_mode": {
    "name": "ipython",
    "version": 3
   },
   "file_extension": ".py",
   "mimetype": "text/x-python",
   "name": "python",
   "nbconvert_exporter": "python",
   "pygments_lexer": "ipython3",
   "version": "3.9.19"
  }
 },
 "nbformat": 4,
 "nbformat_minor": 5
}
